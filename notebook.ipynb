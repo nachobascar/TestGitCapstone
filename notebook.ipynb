{
 "cells": [
  {
   "cell_type": "code",
   "execution_count": 2,
   "metadata": {},
   "outputs": [],
   "source": [
    "import pandas as pd\n",
    "import numpy as np\n",
    "\n",
    "# Dataset\n",
    "tweets = pd.read_json('farmers-protest-tweets-2021-03-5.json', lines=True)\n"
   ]
  },
  {
   "cell_type": "code",
   "execution_count": 21,
   "metadata": {},
   "outputs": [
    {
     "name": "stdout",
     "output_type": "stream",
     "text": [
      "2021-03-30\n"
     ]
    }
   ],
   "source": [
    "# Top 10 tweets by the quantity of retweets\n",
    "def top_tweets_retweeted(ds):\n",
    "    return ds.nlargest(10, 'retweetCount')\n",
    "\n",
    "# Top 10 users by the quantity of tweets\n",
    "def top_tweets_users(ds):\n",
    "    # Group by user and count the number of tweets\n",
    "    aux = ds['user'].apply(lambda x: x['username']).value_counts()\n",
    "\n",
    "    # Return the top 10 users\n",
    "    return aux.nlargest(10)\n",
    "\n",
    "# Top 10 days by the quantity of tweets\n",
    "def top_tweets_days(ds):\n",
    "    # Group by day and count the number of tweets\n",
    "    aux = ds['date'].apply(lambda x: x.date()).value_counts()\n",
    "\n",
    "    # Return the top 10 days\n",
    "    return aux.nlargest(10)\n"
   ]
  },
  {
   "cell_type": "code",
   "execution_count": 22,
   "metadata": {},
   "outputs": [
    {
     "name": "stdout",
     "output_type": "stream",
     "text": [
      "2021-02-03    83866\n",
      "2021-02-04    58607\n",
      "2021-02-05    33332\n",
      "2021-02-02    28548\n",
      "2021-02-06    22420\n",
      "2021-02-07    11325\n",
      "2021-02-09     9320\n",
      "2021-02-08     8920\n",
      "2021-02-10     7973\n",
      "2021-02-11     5698\n",
      "Name: date, dtype: int64\n"
     ]
    }
   ],
   "source": [
    "# Function to call the main functions of the program\n",
    "def Main():\n",
    "    # print(top_tweets_retweeted(tweets))\n",
    "    # print(top_tweets_users(tweets))\n",
    "    print(top_tweets_days(tweets))\n",
    "\n",
    "Main()"
   ]
  },
  {
   "cell_type": "code",
   "execution_count": 46,
   "metadata": {},
   "outputs": [
    {
     "name": "stdout",
     "output_type": "stream",
     "text": [
      "0\n",
      "1\n",
      "2\n",
      "Series([], Name: a, dtype: int64)\n"
     ]
    }
   ],
   "source": [
    "ds = pd.DataFrame.from_dict({'a': [{'num':1}, {'num':3}, {'num':3}], 'b': [4, 5, 6],  'c': [7, 8, 9]})\n",
    "\n",
    "print(ds.groupby(lambda x: print(x)).count().iloc[:,0])"
   ]
  },
  {
   "cell_type": "code",
   "execution_count": null,
   "metadata": {},
   "outputs": [],
   "source": []
  }
 ],
 "metadata": {
  "interpreter": {
   "hash": "8ca0061eb549eff4eaeb8ebf5ca050582fb1d4880c52464f50da201273e52aba"
  },
  "kernelspec": {
   "display_name": "Python 3.9.5 64-bit ('base': conda)",
   "language": "python",
   "name": "python3"
  },
  "language_info": {
   "codemirror_mode": {
    "name": "ipython",
    "version": 3
   },
   "file_extension": ".py",
   "mimetype": "text/x-python",
   "name": "python",
   "nbconvert_exporter": "python",
   "pygments_lexer": "ipython3",
   "version": "3.9.5"
  },
  "orig_nbformat": 4
 },
 "nbformat": 4,
 "nbformat_minor": 2
}
