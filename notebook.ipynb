{
 "cells": [
  {
   "cell_type": "code",
   "execution_count": 1,
   "metadata": {},
   "outputs": [],
   "source": [
    "import pandas as pd\n",
    "import numpy as np\n",
    "import re\n",
    "\n",
    "# Dataset\n",
    "tweets = pd.read_json('farmers-protest-tweets-2021-03-5.json', lines=True)\n"
   ]
  },
  {
   "cell_type": "code",
   "execution_count": 4,
   "metadata": {},
   "outputs": [],
   "source": [
    "# Top 10 tweets by the quantity of retweets\n",
    "def top_tweets_retweeted(ds):\n",
    "    return ds.nlargest(10, 'retweetCount')\n",
    "\n",
    "# Top 10 users by the quantity of tweets\n",
    "def top_tweets_users(ds):\n",
    "    # Group by user and count the number of tweets\n",
    "    aux = ds['user'].apply(lambda x: x['username']).value_counts()\n",
    "\n",
    "    # Return the top 10 users\n",
    "    return aux.nlargest(10)\n",
    "\n",
    "# Top 10 days by the quantity of tweets\n",
    "def top_tweets_days(ds):\n",
    "    # Group by day and count the number of tweets\n",
    "    aux = ds['date'].apply(lambda x: x.date()).value_counts()\n",
    "\n",
    "    # Return the top 10 days\n",
    "    return aux.nlargest(10)\n",
    "\n",
    "# Top 10 hashtags by the quantity of tweets\n",
    "def top_tweets_hashtags(ds):\n",
    "    # Group by hashtag and count the number of tweets\n",
    "    aux = ds['content'].apply(lambda x: set(re.findall(r'\\b#\\w+', x))).explode().value_counts()\n",
    "\n",
    "    # Return the top 10 hashtags\n",
    "    return aux.nlargest(10)\n"
   ]
  },
  {
   "cell_type": "code",
   "execution_count": 5,
   "metadata": {},
   "outputs": [
    {
     "name": "stdout",
     "output_type": "stream",
     "text": [
      "#farmers                            545\n",
      "#FarmersProtest                      19\n",
      "#shameonbollywood                    14\n",
      "#standwithfarmers                    11\n",
      "#Ssc_extend_CGL_application_date      9\n",
      "#StandWithFarmers                     8\n",
      "#FarmerSports                         7\n",
      "#IndianFarmersHumanRights             6\n",
      "#istandwithfarmers                    6\n",
      "#kisanektazindabaad                   5\n",
      "Name: content, dtype: int64\n"
     ]
    }
   ],
   "source": [
    "# Function to call the main functions of the program\n",
    "def Main():\n",
    "    # print(top_tweets_retweeted(tweets))\n",
    "    # print(top_tweets_users(tweets))\n",
    "    # print(top_tweets_days(tweets))\n",
    "    print(top_tweets_hashtags(tweets))\n",
    "\n",
    "Main()"
   ]
  },
  {
   "cell_type": "code",
   "execution_count": null,
   "metadata": {},
   "outputs": [],
   "source": []
  }
 ],
 "metadata": {
  "interpreter": {
   "hash": "8ca0061eb549eff4eaeb8ebf5ca050582fb1d4880c52464f50da201273e52aba"
  },
  "kernelspec": {
   "display_name": "Python 3.9.5 64-bit ('base': conda)",
   "language": "python",
   "name": "python3"
  },
  "language_info": {
   "codemirror_mode": {
    "name": "ipython",
    "version": 3
   },
   "file_extension": ".py",
   "mimetype": "text/x-python",
   "name": "python",
   "nbconvert_exporter": "python",
   "pygments_lexer": "ipython3",
   "version": "3.9.5"
  },
  "orig_nbformat": 4
 },
 "nbformat": 4,
 "nbformat_minor": 2
}
