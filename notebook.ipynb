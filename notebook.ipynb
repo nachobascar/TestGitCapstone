{
 "cells": [
  {
   "cell_type": "code",
   "execution_count": 13,
   "metadata": {},
   "outputs": [],
   "source": [
    "import pandas as pd\n",
    "\n",
    "# Dataset\n",
    "tweets = pd.read_json('farmers-protest-tweets-2021-03-5.json', lines=True)\n"
   ]
  },
  {
   "cell_type": "code",
   "execution_count": 47,
   "metadata": {},
   "outputs": [],
   "source": [
    "# Top 10 tweets by the quantity of retweets\n",
    "def top_tweets_retweeted(ds):\n",
    "    return ds.nlargest(10, 'retweetCount')\n",
    "\n",
    "# Top 10 users by the quantity of tweets\n",
    "def top_tweets_users(ds):\n",
    "    # Group by user and count the number of tweets\n",
    "    aux = ds['user']\n",
    "\n",
    "    # Return the top 10 users\n",
    "    return aux.value_counts().nlargest(10)"
   ]
  },
  {
   "cell_type": "code",
   "execution_count": null,
   "metadata": {},
   "outputs": [],
   "source": [
    "# Function to call the main functions of the program\n",
    "def Main():\n",
    "    # print(top_tweets_retweeted(tweets))\n",
    "    print(top_tweets_users(tweets))\n",
    "\n",
    "Main()"
   ]
  },
  {
   "cell_type": "code",
   "execution_count": 46,
   "metadata": {},
   "outputs": [
    {
     "name": "stdout",
     "output_type": "stream",
     "text": [
      "0\n",
      "1\n",
      "2\n",
      "Series([], Name: a, dtype: int64)\n"
     ]
    }
   ],
   "source": [
    "ds = pd.DataFrame.from_dict({'a': [{'num':1}, {'num':3}, {'num':3}], 'b': [4, 5, 6],  'c': [7, 8, 9]})\n",
    "\n",
    "print(ds.groupby(lambda x: print(x)).count().iloc[:,0])"
   ]
  },
  {
   "cell_type": "code",
   "execution_count": null,
   "metadata": {},
   "outputs": [],
   "source": []
  }
 ],
 "metadata": {
  "interpreter": {
   "hash": "8ca0061eb549eff4eaeb8ebf5ca050582fb1d4880c52464f50da201273e52aba"
  },
  "kernelspec": {
   "display_name": "Python 3.9.5 64-bit ('base': conda)",
   "language": "python",
   "name": "python3"
  },
  "language_info": {
   "codemirror_mode": {
    "name": "ipython",
    "version": 3
   },
   "file_extension": ".py",
   "mimetype": "text/x-python",
   "name": "python",
   "nbconvert_exporter": "python",
   "pygments_lexer": "ipython3",
   "version": "3.9.5"
  },
  "orig_nbformat": 4
 },
 "nbformat": 4,
 "nbformat_minor": 2
}
